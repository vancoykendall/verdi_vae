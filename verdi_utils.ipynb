{
 "cells": [
  {
   "cell_type": "code",
   "execution_count": 44,
   "metadata": {},
   "outputs": [],
   "source": [
    "import torch\n",
    "import torchvision\n",
    "import torch.nn as nn\n",
    "import abc\n",
    "from torchvision import transforms\n",
    "import logging\n",
    "import os\n",
    "import skimage\n",
    "from PIL import Image\n",
    "from matplotlib import pyplot as plt\n",
    "import glob\n",
    "from tqdm import tqdm\n",
    "from scipy import stats\n",
    "import numpy as np"
   ]
  },
  {
   "cell_type": "code",
   "execution_count": 181,
   "metadata": {},
   "outputs": [
    {
     "name": "stderr",
     "output_type": "stream",
     "text": [
      "  2%|▏         | 23/1047 [00:00<00:04, 222.48it/s]"
     ]
    },
    {
     "name": "stdout",
     "output_type": "stream",
     "text": [
      "Processing Real/ images\n"
     ]
    },
    {
     "name": "stderr",
     "output_type": "stream",
     "text": [
      "100%|██████████| 1047/1047 [00:03<00:00, 317.56it/s]\n"
     ]
    }
   ],
   "source": [
    "## Process car_damage data\n",
    "\n",
    "# Size 64 variables\n",
    "# size = (64, 64) # disentangling-vae project only handles square images of size 64 and 32\n",
    "# trans_root = \"data/car_damage_64\"\n",
    "\n",
    "# Size 128 variables\n",
    "size = (128, 128)\n",
    "trans_root = \"data/car_damage_128\"\n",
    "\n",
    "# Other variables\n",
    "im_format = \"JPEG\"\n",
    "orig_root = \"data/car_damage_orig\"\n",
    "\n",
    "if not os.path.isdir(trans_root):\n",
    "    os.mkdir(trans_root)\n",
    "    \n",
    "for im_label in (\"Real/\",):#, \"Fake/Galaxy Note\", \"Fake/Ipad\"):\n",
    "    if not os.path.isdir(os.path.split(im_label)[0]):\n",
    "        os.mkdir(os.path.join(trans_root, os.path.split(im_label)[0]))\n",
    "    print(\"Processing {} images\".format(im_label))\n",
    "    for im_name in tqdm(os.listdir('/'.join((orig_root, im_label)))):\n",
    "        orig_im_path = os.path.join(orig_root, im_label, im_name)\n",
    "        im = Image.open(orig_im_path)\n",
    "        im = im.resize(size, Image.ANTIALIAS)\n",
    "        trans_im_path = os.path.join(trans_root, os.path.split(im_label)[0], im_name)\n",
    "        im.save(trans_im_path, im_format)"
   ]
  },
  {
   "cell_type": "code",
   "execution_count": 182,
   "metadata": {},
   "outputs": [],
   "source": [
    "# Get car_damage dataset stats\n",
    "root = \"data/car_damage_128\"\n",
    "imgs = []\n",
    "for img_label in \"Real\", \"Fake\":\n",
    "    label_dir = os.path.join(root, img_label)\n",
    "    for name in os.listdir(label_dir):\n",
    "        full_name = os.path.join(root, img_label, name)\n",
    "        if os.path.isdir(full_name):\n",
    "            imgs.extend(glob.glob(os.path.join(full_name, '*')))\n",
    "        else:\n",
    "            imgs.append(full_name)\n",
    "            \n",
    "img_sizes = np.asarray(list(map(lambda img: Image.open(img).size, imgs))).transpose()"
   ]
  },
  {
   "cell_type": "code",
   "execution_count": 186,
   "metadata": {},
   "outputs": [
    {
     "name": "stdout",
     "output_type": "stream",
     "text": [
      "function, real_h, fake_h, real_w, fake_w\n",
      "mean (128.0, 128.0, 128.0, 128.0)\n",
      "\n",
      "function, real_h, fake_h, real_w, fake_w\n",
      "amin (128.0, 128.0, 128.0, 128.0)\n",
      "\n",
      "function, real_h, fake_h, real_w, fake_w\n",
      "amax (128.0, 128.0, 128.0, 128.0)\n",
      "\n"
     ]
    }
   ],
   "source": [
    "# Inspect car_damage dataset stats\n",
    "# print(img_sizes.shape)\n",
    "h, w = img_sizes\n",
    "\n",
    "real_h, fake_h, real_w, fake_w = h[:1047], h[1047:], w[:1047], w[1047:]\n",
    "for func in np.mean, np.min, np.max:\n",
    "    print(\"function, real_h, fake_h, real_w, fake_w\")\n",
    "    print(func.__name__, tuple(map(np.mean, (real_h, fake_h, real_w, fake_w))))\n",
    "    print()"
   ]
  },
  {
   "cell_type": "code",
   "execution_count": 11,
   "metadata": {
    "jupyter": {
     "source_hidden": true
    }
   },
   "outputs": [
    {
     "name": "stdout",
     "output_type": "stream",
     "text": [
      "Hello World\n",
      "this\n"
     ]
    }
   ],
   "source": [
    "# class Example(abc.ABC):\n",
    "#     def __init__(self):\n",
    "#         print(\"Hello World\")\n",
    "#         return\n",
    "    \n",
    "# #     @abc.abstractmethod\n",
    "#     def test(self):\n",
    "#         print(\"abstract test\")\n",
    "#         return\n",
    "    \n",
    "# class SubExample(Example, abc.ABC):\n",
    "#     def __init__(self):\n",
    "#         super().__init__()\n",
    "#         print('this')\n",
    "        \n",
    "    \n",
    "#     def test(self):\n",
    "#         super().test()\n",
    "#         print(\"subtest\")\n",
    "#         return\n",
    "    \n",
    "# se = SubExample()\n",
    "\n",
    "# # se.__class__.__mro__\n"
   ]
  },
  {
   "cell_type": "code",
   "execution_count": null,
   "metadata": {},
   "outputs": [],
   "source": []
  }
 ],
 "metadata": {
  "kernelspec": {
   "display_name": "Python 3",
   "language": "python",
   "name": "python3"
  },
  "language_info": {
   "codemirror_mode": {
    "name": "ipython",
    "version": 3
   },
   "file_extension": ".py",
   "mimetype": "text/x-python",
   "name": "python",
   "nbconvert_exporter": "python",
   "pygments_lexer": "ipython3",
   "version": "3.7.3"
  }
 },
 "nbformat": 4,
 "nbformat_minor": 4
}
